{
 "cells": [
  {
   "cell_type": "markdown",
   "id": "cb894c73-d733-4eae-a08a-a03dbbe74f21",
   "metadata": {},
   "source": [
    "# Data Exploration"
   ]
  },
  {
   "cell_type": "code",
   "execution_count": 3,
   "id": "b3090523-bb96-4562-b737-24571a088b9d",
   "metadata": {
    "execution": {
     "iopub.execute_input": "2024-03-14T23:02:44.958875Z",
     "iopub.status.busy": "2024-03-14T23:02:44.958464Z",
     "iopub.status.idle": "2024-03-14T23:02:46.178566Z",
     "shell.execute_reply": "2024-03-14T23:02:46.176758Z",
     "shell.execute_reply.started": "2024-03-14T23:02:44.958838Z"
    },
    "tags": []
   },
   "outputs": [],
   "source": [
    "import os\n",
    "import sys\n",
    "import pandas as pd\n",
    "if os.getcwd().endswith('notebooks'):\n",
    "    os.chdir('..')\n",
    "sys.path.append('src') \n",
    "from src.data_loader import get_dataloader"
   ]
  },
  {
   "cell_type": "code",
   "execution_count": 4,
   "id": "c5d47984-2be0-41a3-b432-01ddb9e206ae",
   "metadata": {
    "execution": {
     "iopub.execute_input": "2024-03-14T23:02:51.516911Z",
     "iopub.status.busy": "2024-03-14T23:02:51.516529Z",
     "iopub.status.idle": "2024-03-14T23:02:51.531652Z",
     "shell.execute_reply": "2024-03-14T23:02:51.530850Z",
     "shell.execute_reply.started": "2024-03-14T23:02:51.516883Z"
    },
    "tags": []
   },
   "outputs": [
    {
     "data": {
      "text/plain": [
       "torch.utils.data.dataloader.DataLoader"
      ]
     },
     "execution_count": 4,
     "metadata": {},
     "output_type": "execute_result"
    }
   ],
   "source": [
    "experiment_path = \"data/HUMAN\"\n",
    "data_loader = get_dataloader(experiment_path, folds=[1,2,3,4], batch_size=3)\n",
    "type(data_loader)"
   ]
  },
  {
   "cell_type": "code",
   "execution_count": 5,
   "id": "87eb0e17-77e2-4511-bae9-64d7eb8d1b9c",
   "metadata": {
    "execution": {
     "iopub.execute_input": "2024-03-14T23:02:54.067562Z",
     "iopub.status.busy": "2024-03-14T23:02:54.067167Z",
     "iopub.status.idle": "2024-03-14T23:02:54.081291Z",
     "shell.execute_reply": "2024-03-14T23:02:54.080413Z",
     "shell.execute_reply.started": "2024-03-14T23:02:54.067530Z"
    },
    "tags": []
   },
   "outputs": [
    {
     "data": {
      "text/html": [
       "<div>\n",
       "<style scoped>\n",
       "    .dataframe tbody tr th:only-of-type {\n",
       "        vertical-align: middle;\n",
       "    }\n",
       "\n",
       "    .dataframe tbody tr th {\n",
       "        vertical-align: top;\n",
       "    }\n",
       "\n",
       "    .dataframe thead th {\n",
       "        text-align: right;\n",
       "    }\n",
       "</style>\n",
       "<table border=\"1\" class=\"dataframe\">\n",
       "  <thead>\n",
       "    <tr style=\"text-align: right;\">\n",
       "      <th></th>\n",
       "      <th>mutant</th>\n",
       "      <th>mutated_sequence</th>\n",
       "      <th>DMS_score</th>\n",
       "      <th>DMS_score_bin</th>\n",
       "    </tr>\n",
       "  </thead>\n",
       "  <tbody>\n",
       "    <tr>\n",
       "      <th>0</th>\n",
       "      <td>A101C</td>\n",
       "      <td>MYGKIIFVLLLSEIVSISASSTTGVAMHTSTSSSVTKSYISSQTND...</td>\n",
       "      <td>0.573154</td>\n",
       "      <td>1</td>\n",
       "    </tr>\n",
       "    <tr>\n",
       "      <th>1</th>\n",
       "      <td>A101F</td>\n",
       "      <td>MYGKIIFVLLLSEIVSISASSTTGVAMHTSTSSSVTKSYISSQTND...</td>\n",
       "      <td>0.765705</td>\n",
       "      <td>1</td>\n",
       "    </tr>\n",
       "    <tr>\n",
       "      <th>2</th>\n",
       "      <td>A101G</td>\n",
       "      <td>MYGKIIFVLLLSEIVSISASSTTGVAMHTSTSSSVTKSYISSQTND...</td>\n",
       "      <td>-2.460507</td>\n",
       "      <td>0</td>\n",
       "    </tr>\n",
       "    <tr>\n",
       "      <th>3</th>\n",
       "      <td>A101H</td>\n",
       "      <td>MYGKIIFVLLLSEIVSISASSTTGVAMHTSTSSSVTKSYISSQTND...</td>\n",
       "      <td>-2.230238</td>\n",
       "      <td>0</td>\n",
       "    </tr>\n",
       "    <tr>\n",
       "      <th>4</th>\n",
       "      <td>A101I</td>\n",
       "      <td>MYGKIIFVLLLSEIVSISASSTTGVAMHTSTSSSVTKSYISSQTND...</td>\n",
       "      <td>1.122181</td>\n",
       "      <td>1</td>\n",
       "    </tr>\n",
       "  </tbody>\n",
       "</table>\n",
       "</div>"
      ],
      "text/plain": [
       "  mutant                                   mutated_sequence  DMS_score  \\\n",
       "0  A101C  MYGKIIFVLLLSEIVSISASSTTGVAMHTSTSSSVTKSYISSQTND...   0.573154   \n",
       "1  A101F  MYGKIIFVLLLSEIVSISASSTTGVAMHTSTSSSVTKSYISSQTND...   0.765705   \n",
       "2  A101G  MYGKIIFVLLLSEIVSISASSTTGVAMHTSTSSSVTKSYISSQTND...  -2.460507   \n",
       "3  A101H  MYGKIIFVLLLSEIVSISASSTTGVAMHTSTSSSVTKSYISSQTND...  -2.230238   \n",
       "4  A101I  MYGKIIFVLLLSEIVSISASSTTGVAMHTSTSSSVTKSYISSQTND...   1.122181   \n",
       "\n",
       "   DMS_score_bin  \n",
       "0              1  \n",
       "1              1  \n",
       "2              0  \n",
       "3              0  \n",
       "4              1  "
      ]
     },
     "execution_count": 5,
     "metadata": {},
     "output_type": "execute_result"
    }
   ],
   "source": [
    "# First let's look at the metadata\n",
    "df = pd.read_csv(\"data/HUMAN/HUMAN.csv\")\n",
    "df.head()"
   ]
  },
  {
   "cell_type": "markdown",
   "id": "378fcba6-1d4c-40f3-a963-229869e33344",
   "metadata": {},
   "source": [
    "We can see that the metadata dataframe contains sequences for the same protein, each one with a single mutation. The mutation is specified by the first column A101C means that in position 101 amino acid A (alanine) was replaced with C (cystein). The DMS_score is the value we are trying to predict"
   ]
  },
  {
   "cell_type": "code",
   "execution_count": 6,
   "id": "872eb2c7-c4fe-4ae0-b779-928619e20077",
   "metadata": {
    "execution": {
     "iopub.execute_input": "2024-03-14T23:02:58.225947Z",
     "iopub.status.busy": "2024-03-14T23:02:58.225573Z",
     "iopub.status.idle": "2024-03-14T23:02:58.259926Z",
     "shell.execute_reply": "2024-03-14T23:02:58.258949Z",
     "shell.execute_reply.started": "2024-03-14T23:02:58.225919Z"
    },
    "tags": []
   },
   "outputs": [
    {
     "name": "stdout",
     "output_type": "stream",
     "text": [
      "The type returned by the dataloader is <class 'dict'>\n",
      "The keys of the dataloader are dict_keys(['embedding', 'mutant', 'DMS_score', 'mutant_sequence', 'logits', 'wt_logits', 'wt_embedding'])\n"
     ]
    }
   ],
   "source": [
    "# next let's see what data is returned by the dataloader:\n",
    "for batch in data_loader:\n",
    "    print(f\"The type returned by the dataloader is {type(batch)}\")\n",
    "    print(f\"The keys of the dataloader are {batch.keys()}\")\n",
    "    break"
   ]
  },
  {
   "cell_type": "code",
   "execution_count": 9,
   "id": "e37f232a-c822-4ee2-b71c-d695a432ffab",
   "metadata": {
    "execution": {
     "iopub.execute_input": "2024-03-14T23:06:32.942514Z",
     "iopub.status.busy": "2024-03-14T23:06:32.942099Z",
     "iopub.status.idle": "2024-03-14T23:06:32.948783Z",
     "shell.execute_reply": "2024-03-14T23:06:32.947939Z",
     "shell.execute_reply.started": "2024-03-14T23:06:32.942484Z"
    },
    "tags": []
   },
   "outputs": [
    {
     "name": "stdout",
     "output_type": "stream",
     "text": [
      "embedding shape: torch.Size([3, 152, 1280])\n",
      "wt_embedding shape: torch.Size([3, 152, 1280])\n",
      "mutants: ['L108W', 'T106C', 'G102K']\n",
      "DMS_score: tensor([-1.4484, -1.3308, -2.7186])\n",
      "mutant_sequence: ['MYGKIIFVLLLSEIVSISASSTTGVAMHTSTSSSVTKSYISSQTNDTHKRDTYAATPRAHEVSEISVRTVYPPEEETGERVQLAHHFSEPEITLIIFGVMAGVIGTIWLISYGIRRLIKKSPSDVKPLPSPDTDVPLSSVEIENPETSDQ', 'MYGKIIFVLLLSEIVSISASSTTGVAMHTSTSSSVTKSYISSQTNDTHKRDTYAATPRAHEVSEISVRTVYPPEEETGERVQLAHHFSEPEITLIIFGVMAGVIGCILLISYGIRRLIKKSPSDVKPLPSPDTDVPLSSVEIENPETSDQ', 'MYGKIIFVLLLSEIVSISASSTTGVAMHTSTSSSVTKSYISSQTNDTHKRDTYAATPRAHEVSEISVRTVYPPEEETGERVQLAHHFSEPEITLIIFGVMAKVIGTILLISYGIRRLIKKSPSDVKPLPSPDTDVPLSSVEIENPETSDQ']\n",
      "logits shape: torch.Size([3, 152, 33])\n",
      "wt_logits shape: torch.Size([3, 152, 33])\n"
     ]
    }
   ],
   "source": [
    "print(\"embedding shape:\", batch['embedding'].shape)\n",
    "print(\"wt_embedding shape:\", batch['wt_embedding'].shape)\n",
    "print(\"mutants:\", batch['mutant'])\n",
    "print(\"DMS_score:\", batch[\"DMS_score\"])\n",
    "print(\"mutant_sequence:\", batch[\"mutant_sequence\"])\n",
    "print(\"logits shape:\", batch[\"logits\"].shape)\n",
    "print(\"wt_logits shape:\", batch[\"wt_logits\"].shape)"
   ]
  },
  {
   "cell_type": "markdown",
   "id": "555bcba2-b4b2-4bd9-887d-2203e1dd2b50",
   "metadata": {
    "tags": []
   },
   "source": [
    "[ESM is a protein language model](https://github.com/facebookresearch/esm) which is used to create embedded representations of proteins that can then be used as features for downstream tasks (like we aredoing here.\n",
    "The embeddings shape is composed of \\[batch_size, sequence_length, ESM_embedding_size\\] the embedding feature is likely to be the most useful for our purposes and you may choose to not use any of the other fetures.\n",
    "logits and wt_logits: These are the raw ESM model outputs (before applying activation functions like softmax) for the mutant and wild-type sequences, respectively. For each amino acid in each sequence, the model predicts 33 different features or scores, some of which reflect the predicted probability of the amino acid type occuring at that position.\n",
    "\n",
    "wt stands for wild-type and it means the canonical sequence of the protein (without any mutation applied) the wild type features are always the same both within the batch and across batches.\n",
    "If your model does not need logits and or wt features you can set return_logits=False, return_wt=false when calling: `get_dataloader()`"
   ]
  }
 ],
 "metadata": {
  "kernelspec": {
   "display_name": "saturn (Python 3)",
   "language": "python",
   "name": "python3"
  },
  "language_info": {
   "codemirror_mode": {
    "name": "ipython",
    "version": 3
   },
   "file_extension": ".py",
   "mimetype": "text/x-python",
   "name": "python",
   "nbconvert_exporter": "python",
   "pygments_lexer": "ipython3",
   "version": "3.9.15"
  }
 },
 "nbformat": 4,
 "nbformat_minor": 5
}
